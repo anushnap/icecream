{
 "cells": [
  {
   "cell_type": "markdown",
   "metadata": {},
   "source": [
    "# Ice Cream Project"
   ]
  },
  {
   "cell_type": "markdown",
   "metadata": {},
   "source": [
    "Logistic regression and Feature selection"
   ]
  },
  {
   "cell_type": "markdown",
   "metadata": {},
   "source": [
    "Ice Cream Analysis- can we model the maximization of 5-star reviews given the ingredient components?"
   ]
  },
  {
   "cell_type": "markdown",
   "metadata": {},
   "source": [
    "Sources:\n",
    "\n",
    "- [Using LASSO for variable selection, then using Logit (stackexchange)](https://stats.stackexchange.com/questions/135067/using-lasso-for-variable-selection-then-using-logit)\n",
    "- [How to perform logistic lasso in python? (stackoverflow)](https://stackoverflow.com/questions/41639557/how-to-perform-logistic-lasso-in-python)\n",
    "-[Feature Selection Using Regularisation](https://towardsdatascience.com/feature-selection-using-regularisation-a3678b71e499)\n",
    "-Lasso Regularization explained (video below):"
   ]
  },
  {
   "cell_type": "code",
   "execution_count": 2,
   "metadata": {},
   "outputs": [
    {
     "data": {
      "image/jpeg": "[encoded data removed]",
      "text/html": [
       "\n",
       "        <iframe\n",
       "            width=\"400\"\n",
       "            height=\"300\"\n",
       "            src=\"https://www.youtube.com/embed/NGf0voTMlcs\"\n",
       "            frameborder=\"0\"\n",
       "            allowfullscreen\n",
       "        ></iframe>\n",
       "        "
      ],
      "text/plain": [
       "<IPython.lib.display.YouTubeVideo at 0x1380733dd00>"
      ]
     },
     "execution_count": 2,
     "metadata": {},
     "output_type": "execute_result"
    }
   ],
   "source": [
    "from IPython.display import YouTubeVideo\n",
    "\n",
    "YouTubeVideo('NGf0voTMlcs')"
   ]
  },
  {
   "cell_type": "markdown",
   "metadata": {},
   "source": [
    "### Data prep"
   ]
  },
  {
   "cell_type": "code",
   "execution_count": 3,
   "metadata": {},
   "outputs": [],
   "source": [
    "#imports\n",
    "\n",
    "import pandas as pd\n",
    "import numpy as np\n",
    "\n",
    "import matplotlib.pyplot as plt\n",
    "import seaborn as sns\n",
    "\n",
    "from sklearn.model_selection import train_test_split\n",
    "\n",
    "from sklearn.linear_model import Lasso, LogisticRegression\n",
    "from sklearn.feature_selection import SelectFromModel"
   ]
  },
  {
   "cell_type": "code",
   "execution_count": 4,
   "metadata": {},
   "outputs": [
    {
     "name": "stderr",
     "output_type": "stream",
     "text": [
      "C:\\ProgramData\\Anaconda3\\lib\\site-packages\\IPython\\core\\interactiveshell.py:3146: DtypeWarning: Columns (15) have mixed types.Specify dtype option on import or set low_memory=False.\n",
      "  has_raised = await self.run_ast_nodes(code_ast.body, cell_name,\n"
     ]
    }
   ],
   "source": [
    "#load data\n",
    "\n",
    "#flavor/topping indicators\n",
    "url =  'https://raw.githubusercontent.com/emi90/icecream/main/reviews_with_dummies.csv'\n",
    "\n",
    "#indicators for ALL ingredients\n",
    "url_all = 'https://raw.githubusercontent.com/emi90/icecream/main/reviews_indicators.csv'\n",
    "\n",
    "df = pd.read_csv(url)"
   ]
  },
  {
   "cell_type": "code",
   "execution_count": 5,
   "metadata": {},
   "outputs": [
    {
     "data": {
      "text/plain": [
       "Index(['Unnamed: 0', 'ingredients.1', 'Flavor', 'brand', 'key', 'author',\n",
       "       'date', 'stars', 'title', 'helpful_yes', 'helpful_no', 'text', 'taste',\n",
       "       'ingredients', 'texture', 'likes', 'banana', 'blackberry..mascarpone',\n",
       "       'blueberry..respberry', 'bourbon', 'bourbon..vanilla', 'brown.sugar',\n",
       "       'butter.pecan', 'butterscotch', 'caramel'],\n",
       "      dtype='object')"
      ]
     },
     "execution_count": 5,
     "metadata": {},
     "output_type": "execute_result"
    }
   ],
   "source": [
    "#Find the non-indicator columns (the decriptive columns from the original reviews dataset)\n",
    "\n",
    "df.columns[0:25]"
   ]
  },
  {
   "cell_type": "code",
   "execution_count": 23,
   "metadata": {},
   "outputs": [
    {
     "data": {
      "text/plain": [
       "(21674, 95)"
      ]
     },
     "execution_count": 23,
     "metadata": {},
     "output_type": "execute_result"
    }
   ],
   "source": [
    "#drop the descriptive columns\n",
    "\n",
    "drop_cols = [\"Unnamed: 0\", \"ingredients.1\",\"Flavor\",\"brand\",\"key\",\n",
    "    \"author\",\"date\",\"stars\",\"title\",\"helpful_yes\",\"helpful_no\",\n",
    "    \"text\",\"taste\",\"ingredients\",\"texture\",\"likes\", \"name\"]\n",
    "\n",
    "df_indicators = df.drop(columns = drop_cols, axis = 1)\n",
    "\n",
    "df_indicators.shape"
   ]
  },
  {
   "cell_type": "code",
   "execution_count": 7,
   "metadata": {},
   "outputs": [
    {
     "data": {
      "text/html": [
       "<div>\n",
       "<style scoped>\n",
       "    .dataframe tbody tr th:only-of-type {\n",
       "        vertical-align: middle;\n",
       "    }\n",
       "\n",
       "    .dataframe tbody tr th {\n",
       "        vertical-align: top;\n",
       "    }\n",
       "\n",
       "    .dataframe thead th {\n",
       "        text-align: right;\n",
       "    }\n",
       "</style>\n",
       "<table border=\"1\" class=\"dataframe\">\n",
       "  <thead>\n",
       "    <tr style=\"text-align: right;\">\n",
       "      <th></th>\n",
       "      <th>0</th>\n",
       "    </tr>\n",
       "  </thead>\n",
       "  <tbody>\n",
       "  </tbody>\n",
       "</table>\n",
       "</div>"
      ],
      "text/plain": [
       "Empty DataFrame\n",
       "Columns: [0]\n",
       "Index: []"
      ]
     },
     "execution_count": 7,
     "metadata": {},
     "output_type": "execute_result"
    }
   ],
   "source": [
    "#verify that dataset contains just indicator/numerical values\n",
    "\n",
    "is_num_df = pd.DataFrame(data = df_indicators.apply(lambda s: pd.to_numeric(s, errors='coerce').notnull().all()))\n",
    "is_num_df.loc[is_num_df[0] == False]"
   ]
  },
  {
   "cell_type": "code",
   "execution_count": 8,
   "metadata": {},
   "outputs": [
    {
     "data": {
      "text/plain": [
       "((15171, 94), (6503, 94))"
      ]
     },
     "execution_count": 8,
     "metadata": {},
     "output_type": "execute_result"
    }
   ],
   "source": [
    "#load training and test dataset\n",
    "\n",
    "X_train, X_test, y_train, y_test = train_test_split(\n",
    "    df_indicators.drop(columns = [\"is_5\"], axis = 1),\n",
    "    df_indicators[\"is_5\"],\n",
    "    test_size = 0.3,\n",
    "    random_state = 0)\n",
    "\n",
    "X_train.shape, X_test.shape"
   ]
  },
  {
   "cell_type": "code",
   "execution_count": 9,
   "metadata": {},
   "outputs": [
    {
     "data": {
      "text/plain": [
       "SelectFromModel(estimator=LogisticRegression(C=1, penalty='l1',\n",
       "                                             solver='liblinear'))"
      ]
     },
     "execution_count": 9,
     "metadata": {},
     "output_type": "execute_result"
    }
   ],
   "source": [
    "sel_ = SelectFromModel(LogisticRegression(C=1, penalty = \"l1\", solver = 'liblinear'))\n",
    "sel_.fit(X_train.fillna(0), y_train)"
   ]
  },
  {
   "cell_type": "code",
   "execution_count": 10,
   "metadata": {},
   "outputs": [
    {
     "data": {
      "text/plain": [
       "array([False,  True,  True,  True,  True,  True,  True, False,  True,\n",
       "        True,  True,  True,  True,  True, False,  True,  True, False,\n",
       "        True, False,  True,  True,  True,  True,  True,  True,  True,\n",
       "        True,  True,  True,  True,  True,  True,  True,  True,  True,\n",
       "        True,  True,  True,  True, False,  True, False,  True,  True,\n",
       "        True,  True,  True,  True,  True,  True,  True,  True, False,\n",
       "        True,  True,  True,  True,  True,  True,  True,  True,  True,\n",
       "        True, False,  True,  True,  True,  True,  True,  True,  True,\n",
       "        True,  True,  True,  True,  True,  True,  True,  True,  True,\n",
       "        True,  True,  True,  True,  True,  True,  True,  True,  True,\n",
       "       False,  True,  True,  True])"
      ]
     },
     "execution_count": 10,
     "metadata": {},
     "output_type": "execute_result"
    }
   ],
   "source": [
    "sel_.get_support()"
   ]
  },
  {
   "cell_type": "code",
   "execution_count": 11,
   "metadata": {},
   "outputs": [
    {
     "name": "stdout",
     "output_type": "stream",
     "text": [
      "total features: 94\n",
      "selected features: 84\n",
      "features with coefficients shrank to zero: 10\n"
     ]
    }
   ],
   "source": [
    "selected_feat = X_train.columns[(sel_.get_support())]\n",
    "\n",
    "print('total features: {}'.format((X_train.shape[1])))\n",
    "print('selected features: {}'.format(len(selected_feat)))\n",
    "print('features with coefficients shrank to zero: {}'.format(np.sum(sel_.estimator_.coef_ == 0)))"
   ]
  },
  {
   "cell_type": "code",
   "execution_count": 12,
   "metadata": {},
   "outputs": [
    {
     "data": {
      "text/plain": [
       "Index(['blackberry..mascarpone', 'blueberry..respberry', 'bourbon',\n",
       "       'bourbon..vanilla', 'brown.sugar', 'butter.pecan', 'caramel',\n",
       "       'caramel..chocolate', 'caramel..dulce.de.leche..vanilla',\n",
       "       'caramel..mocha', 'caramel..vanilla', 'cheescake', 'cherry',\n",
       "       'chocolate', 'chocolate..cheescake', 'chocolate..mint',\n",
       "       'chocolate..peanut.butter', 'chocolate..peppermint',\n",
       "       'chocolate..strawberry..vanilla', 'chocolate..vanilla', 'cinammon',\n",
       "       'coconut', 'coconut..chocolate', 'coffee', 'coffee..sweet.cream',\n",
       "       'coffee..vanilla', 'dulce.de.leche', 'eggnog', 'green.tea', 'hazelnut',\n",
       "       'honey', 'irish.cream', 'key.lime', 'lemon', 'lemon..raspberry',\n",
       "       'marshmallow', 'mint', 'orange..vanilla', 'peach', 'peanut.butter',\n",
       "       'peanut.butter..vanilla', 'peppermint', 'pineapple..coconut',\n",
       "       'pistachio', 'pistachio..sweet.cream', 'pumpkin', 'raspberry',\n",
       "       'rosÃ.Â.Â.', 'rum', 'strawberry', 'sweet.cream', 'toffee', 'vanilla',\n",
       "       'vanilla..blackberry', 'vanilla..blueberry', 'vanilla..cherry',\n",
       "       'white.chocolate', 'white.chocolate..raspberry', 'contains_pecans',\n",
       "       'contains_coffee', 'contains_walnuts', 'contains_rum',\n",
       "       'contains_cream.cheese', 'contains_brown.sugar', 'contains_cinnamon',\n",
       "       'contains_lemon.juice.concentrate', 'contains_pineapple',\n",
       "       'contains_marshmallow', 'contains_cookie.dough', 'contains_toffee',\n",
       "       'contains_caramel', 'contains_vegan', 'contains_chocolate',\n",
       "       'contains_peanuts', 'contains_almonds', 'contains_strawberries',\n",
       "       'contains_raspberries', 'contains_mangos', 'contains_banana',\n",
       "       'brand_bj', 'brand_breyers', 'brand_talenti', 'contains_dairy',\n",
       "       'contains_organic'],\n",
       "      dtype='object')"
      ]
     },
     "execution_count": 12,
     "metadata": {},
     "output_type": "execute_result"
    }
   ],
   "source": [
    "selected_feat"
   ]
  },
  {
   "cell_type": "code",
   "execution_count": 13,
   "metadata": {},
   "outputs": [],
   "source": [
    "col_list_all = list(X_train.columns)\n",
    "col_list_selected = list(selected_feat)\n",
    "not_selected = [col for col in col_list_all if col not in col_list_selected]"
   ]
  },
  {
   "cell_type": "code",
   "execution_count": 14,
   "metadata": {},
   "outputs": [
    {
     "data": {
      "text/plain": [
       "((15171, 84), (6503, 84))"
      ]
     },
     "execution_count": 14,
     "metadata": {},
     "output_type": "execute_result"
    }
   ],
   "source": [
    "X_train_selected = sel_.transform(X_train.fillna(0))\n",
    "X_test_selected = sel_.transform(X_test.fillna(0))\n",
    "\n",
    "X_train_selected.shape, X_test_selected.shape"
   ]
  },
  {
   "cell_type": "code",
   "execution_count": 84,
   "metadata": {},
   "outputs": [],
   "source": [
    "#Drop the indicator variables whose coefficients are shrunk to 0\n",
    "\n",
    "selected_df = df.drop(columns = not_selected, axis = 1)\n",
    "#selected_df.to_csv('lasso.csv')"
   ]
  },
  {
   "cell_type": "markdown",
   "metadata": {},
   "source": [
    "### Checking for multicollinearity"
   ]
  },
  {
   "cell_type": "code",
   "execution_count": 74,
   "metadata": {},
   "outputs": [],
   "source": [
    "#Prepare correlation matrix\n",
    "\n",
    "ind_cols = drop_cols\n",
    "ind_cols.append(\"is_5\")\n",
    "\n",
    "ind_df = selected_df.drop(columns = ind_cols, axis = 1)\n",
    "\n",
    "corr_df = ind_df.corr()"
   ]
  },
  {
   "cell_type": "code",
   "execution_count": 86,
   "metadata": {},
   "outputs": [
    {
     "data": {
      "text/plain": [
       "{'pineapple..coconut': ['pineapple..coconut', 'contains_pineapple'],\n",
       " 'raspberry': ['raspberry', 'contains_raspberries'],\n",
       " 'strawberry': ['strawberry', 'contains_strawberries'],\n",
       " 'contains_pineapple': ['pineapple..coconut', 'contains_pineapple'],\n",
       " 'contains_strawberries': ['strawberry', 'contains_strawberries'],\n",
       " 'contains_raspberries': ['raspberry', 'contains_raspberries']}"
      ]
     },
     "execution_count": 86,
     "metadata": {},
     "output_type": "execute_result"
    }
   ],
   "source": [
    "corr_level = 0.7\n",
    "\n",
    "corr_dict = {}\n",
    "cols_list = list(ind_df.columns)\n",
    "\n",
    "for i in range(len(corr_df)):\n",
    "    col_name = cols_list[i]\n",
    "    bool_ser = corr_df[col_name] >= corr_level\n",
    "    corr_item = list(bool_ser.index[bool_ser]) #get the element where correlation == corr_level\n",
    "    if len(corr_item) > 1: #other correlated item?\n",
    "        corr_dict[col_name] = corr_item\n",
    "\n",
    "corr_dict"
   ]
  },
  {
   "cell_type": "markdown",
   "metadata": {},
   "source": [
    "Flavor indicator for Pineapple seems to only exist for Ice Creams that \"contain_pineapple\", so this additional indicator is duplicate. "
   ]
  },
  {
   "cell_type": "code",
   "execution_count": 79,
   "metadata": {},
   "outputs": [
    {
     "data": {
      "text/plain": [
       "array(['pineapple, coconut'], dtype=object)"
      ]
     },
     "execution_count": 79,
     "metadata": {},
     "output_type": "execute_result"
    }
   ],
   "source": [
    "# Check flavors for contains_pineapple\n",
    "\n",
    "\n",
    "selected_df.loc[selected_df.contains_pineapple == 1][\"Flavor\"].unique()"
   ]
  },
  {
   "cell_type": "code",
   "execution_count": 80,
   "metadata": {},
   "outputs": [
    {
     "data": {
      "text/plain": [
       "array(['blueberry, respberry', 'white chocolate, raspberry',\n",
       "       'lemon, raspberry', 'raspberry', 'white chocolate', 'cheescake'],\n",
       "      dtype=object)"
      ]
     },
     "execution_count": 80,
     "metadata": {},
     "output_type": "execute_result"
    }
   ],
   "source": [
    "# Check flavors for contains_raspberries\n",
    "\n",
    "\n",
    "selected_df.loc[selected_df.contains_raspberries == 1][\"Flavor\"].unique()"
   ]
  },
  {
   "cell_type": "code",
   "execution_count": 81,
   "metadata": {},
   "outputs": [
    {
     "data": {
      "text/plain": [
       "array(['blueberry, respberry', 'strawberry',\n",
       "       'chocolate, strawberry, vanilla', 'cheescake'], dtype=object)"
      ]
     },
     "execution_count": 81,
     "metadata": {},
     "output_type": "execute_result"
    }
   ],
   "source": [
    "# Check flavors for contains_strawberries\n",
    "\n",
    "\n",
    "selected_df.loc[selected_df.contains_strawberries == 1][\"Flavor\"].unique()"
   ]
  },
  {
   "cell_type": "markdown",
   "metadata": {},
   "source": [
    "Pineapple flavor and Contains_Pineapple is duplicate, so we will drop this column"
   ]
  },
  {
   "cell_type": "code",
   "execution_count": 85,
   "metadata": {},
   "outputs": [],
   "source": [
    "selected_df_2 = selected_df.drop(columns = [\"contains_pineapple\"], axis = 1)\n",
    "\n",
    "selected_df_2.to_csv('lasso.csv')"
   ]
  }
 ],
 "metadata": {
  "kernelspec": {
   "display_name": "Python 3",
   "language": "python",
   "name": "python3"
  },
  "language_info": {
   "codemirror_mode": {
    "name": "ipython",
    "version": 3
   },
   "file_extension": ".py",
   "mimetype": "text/x-python",
   "name": "python",
   "nbconvert_exporter": "python",
   "pygments_lexer": "ipython3",
   "version": "3.8.5"
  }
 },
 "nbformat": 4,
 "nbformat_minor": 4
}
